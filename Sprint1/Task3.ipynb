{
 "cells": [
  {
   "cell_type": "markdown",
   "metadata": {},
   "source": [
    "<h1 style=\"color:DodgerBlue\">Индивидальный проект</h1>"
   ]
  },
  {
   "cell_type": "markdown",
   "metadata": {},
   "source": [
    "<h2 style=\"color:DodgerBlue\">Название проекта:</h2>\n",
    "\n",
    "----\n",
    "\n",
    "### Вариант задания \n"
   ]
  },
  {
   "cell_type": "markdown",
   "metadata": {},
   "source": [
    "<h2 style=\"color:DodgerBlue\">Описание проекта:</h2>\n",
    "\n",
    "----\n",
    "\n",
    "[ваш текст]\n",
    "\n",
    "#### Дополнительное задание\n",
    "Добавьте к сущестующим классам конструктора классов с использованием гетторов и сетторов и реализуйте взаимодействие объектов между собой"
   ]
  },
  {
   "cell_type": "markdown",
   "metadata": {},
   "source": [
    "<h2 style=\"color:DodgerBlue\">Реализация:</h2>\n",
    "\n",
    "----"
   ]
  },
  {
   "cell_type": "code",
   "execution_count": 1,
   "metadata": {
    "dotnet_interactive": {
     "language": "csharp"
    },
    "polyglot_notebook": {
     "kernelName": "csharp"
    }
   },
   "outputs": [
    {
     "name": "stdout",
     "output_type": "stream",
     "text": [
      "Имя: Иван, Возраст: 35, Должность: Менеджер, Зарплата: 70000\n",
      "Иван управляет командой из 5 подчиненных.\n",
      "Иван взял отпуск.\n",
      "\n",
      "Имя: Анна, Возраст: 28, Должность: Разработчик, Зарплата: 60000\n",
      "Анна выполняет рабочие обязанности.\n",
      "Анна взял отпуск, но должен согласовать его с проектными сроками.\n",
      "\n",
      "Имя: Максим, Возраст: 30, Должность: Дизайнер, Зарплата: 50000\n",
      "Максим разрабатывает новые идеи в стиле Минимализм.\n",
      "Максим взял отпуск.\n"
     ]
    }
   ],
   "source": [
    " public class Employee\n",
    "    {\n",
    "        protected string Name { get; set; }\n",
    "        protected int Age { get; set; }\n",
    "        protected decimal Salary { get; set; }\n",
    "        protected string Job { get; set; }\n",
    "\n",
    "        public Employee(string name, int age, decimal salary)\n",
    "        {\n",
    "            Name = name;\n",
    "            Age = age;\n",
    "            Salary = salary;\n",
    "        }\n",
    "\n",
    "        public virtual string GetInfo()\n",
    "        {\n",
    "            return $\"Имя: {Name}, Возраст: {Age}, Должность: {Job}, Зарплата: {Salary}\";\n",
    "        }\n",
    "\n",
    "        public virtual void Work()\n",
    "        {\n",
    "            Console.WriteLine($\"{Name} выполняет рабочие обязанности.\");\n",
    "        }\n",
    "\n",
    "        public virtual void TakeVacation()\n",
    "        {\n",
    "            Console.WriteLine($\"{Name} взял отпуск.\");\n",
    "        }\n",
    "    }\n",
    "\n",
    "    public class Manager : Employee\n",
    "    {\n",
    "        public int SubordinatesCount { get; set; }\n",
    "\n",
    "        public Manager(string name, int age, decimal salary, int subordinatesCount)\n",
    "            : base(name, age, salary)\n",
    "        {\n",
    "            SubordinatesCount = subordinatesCount;\n",
    "            Job = \"Менеджер\";\n",
    "        }\n",
    "\n",
    "        public override void Work()\n",
    "        {\n",
    "            Console.WriteLine($\"{Name} управляет командой из {SubordinatesCount} подчиненных.\");\n",
    "        }\n",
    "    }\n",
    "\n",
    "    public class Developer : Employee\n",
    "    {\n",
    "        public string Specialization { get; set; }\n",
    "\n",
    "        public Developer(string name, int age, decimal salary, string specialization)\n",
    "            : base(name, age, salary)\n",
    "        {\n",
    "            Specialization = specialization;\n",
    "            Job = \"Разработчик\";\n",
    "        }\n",
    "\n",
    "        public override void TakeVacation()\n",
    "        {\n",
    "            Console.WriteLine($\"{Name} взял отпуск, но должен согласовать его с проектными сроками.\");\n",
    "        }\n",
    "    }\n",
    "\n",
    "    public class Designer : Employee\n",
    "    {\n",
    "        public string DesignStyle { get; set; }\n",
    "\n",
    "        public Designer(string name, int age, decimal salary, string designStyle)\n",
    "            : base(name, age, salary)\n",
    "        {\n",
    "            DesignStyle = designStyle;\n",
    "            Job = \"Дизайнер\";\n",
    "        }\n",
    "\n",
    "        public override void Work()\n",
    "        {\n",
    "            Console.WriteLine($\"{Name} разрабатывает новые идеи в стиле {DesignStyle}.\");\n",
    "        }\n",
    "    }\n",
    "\n",
    "    public class Program\n",
    "    {\n",
    "        public static void Main(string[] args)\n",
    "        {\n",
    "            Employee manager = new Manager(\"Иван\", 35, 70000, 5);\n",
    "            Employee developer = new Developer(\"Анна\", 28, 60000, \"C#\");\n",
    "            Employee designer = new Designer(\"Максим\", 30, 50000, \"Минимализм\");\n",
    "\n",
    "            Console.WriteLine(manager.GetInfo());\n",
    "            manager.Work();\n",
    "            manager.TakeVacation();\n",
    "\n",
    "            Console.WriteLine();\n",
    "\n",
    "            Console.WriteLine(developer.GetInfo());\n",
    "            developer.Work();\n",
    "            developer.TakeVacation();\n",
    "\n",
    "            Console.WriteLine();\n",
    "\n",
    "            Console.WriteLine(designer.GetInfo());\n",
    "            designer.Work();\n",
    "            designer.TakeVacation();\n",
    "        }\n",
    "    }\n",
    "            Program.Main([]);"
   ]
  }
 ],
 "metadata": {
  "kernelspec": {
   "display_name": ".NET (C#)",
   "language": "C#",
   "name": ".net-csharp"
  },
  "polyglot_notebook": {
   "kernelInfo": {
    "defaultKernelName": "csharp",
    "items": [
     {
      "aliases": [],
      "languageName": "csharp",
      "name": "csharp"
     }
    ]
   }
  }
 },
 "nbformat": 4,
 "nbformat_minor": 2
}
