{
 "cells": [
  {
   "cell_type": "markdown",
   "metadata": {},
   "source": [
    "<h1 style=\"color:DodgerBlue\">Индивидальный проект</h1>"
   ]
  },
  {
   "cell_type": "markdown",
   "metadata": {},
   "source": [
    "<h2 style=\"color:DodgerBlue\">Название проекта:</h2>\n",
    "\n",
    "----\n",
    "\n",
    "### Вариант задания 3\n"
   ]
  },
  {
   "cell_type": "markdown",
   "metadata": {},
   "source": [
    "<h2 style=\"color:DodgerBlue\">Описание проекта:</h2>\n",
    "\n",
    "----\n",
    "\n",
    "Создать базовый класс Employee в C#, который будет представлять информацию о\n",
    "сотрудниках компании. На основе этого класса разработать 2-3 производных\n",
    "класса, демонстрирующих принципы наследования и полиморфизма. В каждом из\n",
    "классов должны быть реализованы новые атрибуты и методы, а также\n",
    "переопределены некоторые методы базового класса для демонстрации\n",
    "полиморфизма.\n"
   ]
  },
  {
   "cell_type": "markdown",
   "metadata": {},
   "source": [
    "<h2 style=\"color:DodgerBlue\">Реализация:</h2>\n",
    "\n",
    "----"
   ]
  },
  {
   "cell_type": "code",
   "execution_count": 2,
   "metadata": {
    "dotnet_interactive": {
     "language": "csharp"
    },
    "polyglot_notebook": {
     "kernelName": "csharp"
    }
   },
   "outputs": [],
   "source": [
    " public class Employee\n",
    "    {\n",
    "        public string Name { get; set; }\n",
    "        public int Age { get; set; }\n",
    "        public decimal Salary { get; set;}\n",
    "        public string Job { get; set; }\n",
    "\n",
    "        public Employee(string name, int age, decimal salary)\n",
    "        {\n",
    "            Name = name;\n",
    "            Age = age;\n",
    "            Salary = salary;\n",
    "            Job = \"Уточняется\";\n",
    "        }\n",
    "\n",
    "        public virtual void GetInfo()\n",
    "        {\n",
    "            Console.WriteLine($\"Имя: {Name}, Возраст: {Age}, Должность: {Job}, Зарплата: {Salary}\");\n",
    "        }\n",
    "\n",
    "        public virtual void Work()\n",
    "        {\n",
    "            Console.WriteLine($\"{Name} выполняет рабочие обязанности.\");\n",
    "        }\n",
    "\n",
    "        public virtual void TakeVacation()\n",
    "        {\n",
    "            Console.WriteLine($\"{Name} взял отпуск.\");\n",
    "        }\n",
    "    }\n",
    "\n",
    "    public class Manager : Employee\n",
    "    {\n",
    "        public int SubordinatesCount { get; set; }\n",
    "\n",
    "        public Manager(string name, int age, decimal salary, int subordinatesCount)\n",
    "            : base(name, age, salary)\n",
    "        {\n",
    "            SubordinatesCount = subordinatesCount;\n",
    "            Job = \"Менеджер\";\n",
    "        }\n",
    "\n",
    "        public override void Work()\n",
    "        {\n",
    "            Console.WriteLine($\"{Name} управляет командой из {SubordinatesCount} подчиненных.\");\n",
    "        }\n",
    "    }\n",
    "\n",
    "    public class Developer : Employee\n",
    "    {\n",
    "        public string Specialization { get; set; }\n",
    "\n",
    "        public Developer(string name, int age, decimal salary, string specialization)\n",
    "            : base(name, age, salary)\n",
    "        {\n",
    "            Specialization = specialization;\n",
    "            Job = \"Разработчик\";\n",
    "        }\n",
    "\n",
    "        public override void TakeVacation()\n",
    "        {\n",
    "            Console.WriteLine($\"{Name} взял отпуск, но должен согласовать его с проектными сроками.\");\n",
    "        }\n",
    "\n",
    "        public override void Work()\n",
    "        {\n",
    "            Console.WriteLine($\"{Name} выполняет рабочие обязанности на языке {Specialization}\");\n",
    "        }\n",
    "    }\n",
    "\n",
    "    public class Designer : Employee\n",
    "    {\n",
    "        public string DesignStyle { get; set; }\n",
    "\n",
    "        public Designer(string name, int age, decimal salary, string designStyle)\n",
    "            : base(name, age, salary)\n",
    "        {\n",
    "            DesignStyle = designStyle;\n",
    "            Job = \"Дизайнер\";\n",
    "        }\n",
    "\n",
    "        public override void Work()\n",
    "        {\n",
    "            Console.WriteLine($\"{Name} разрабатывает новые идеи в стиле {DesignStyle}.\");\n",
    "        }\n",
    "    }\n",
    "\n",
    "    public class Tester : Employee\n",
    "    {\n",
    "        public bool Automation {get; set; }\n",
    "\n",
    "        public Tester(string name, int age, decimal salary, bool automation)\n",
    "            : base(name, age, salary)\n",
    "        {\n",
    "            Automation = automation;\n",
    "            Job = \"Тестировщик\";\n",
    "        }\n",
    "\n",
    "        public override void Work()\n",
    "        {\n",
    "            if(Automation==true)\n",
    "            {\n",
    "                Console.WriteLine(\"123\");\n",
    "            }\n",
    "        }\n",
    "    }\n",
    "\n",
    "    public class Program\n",
    "    {\n",
    "        public static void Main()\n",
    "        {\n",
    "            Employee manager = new Manager(\"Иван\", 35, 70000, 5);\n",
    "            Employee manager2 = new Manager(\"Алекс\", 35, 70000, 5);\n",
    "            Employee developer = new Developer(\"Анна\", 28, 60000, \"C#\");\n",
    "            Employee designer = new Designer(\"Максим\", 30, 50000, \"Минимализм\");\n",
    "\n",
    "            manager2.GetInfo();\n",
    "            manager.Work();\n",
    "            manager.TakeVacation();\n",
    "\n",
    "            Console.WriteLine(\"-----------------------------------------------\");\n",
    "\n",
    "            developer.GetInfo();\n",
    "            developer.Work();\n",
    "            developer.TakeVacation();\n",
    "\n",
    "            Console.WriteLine(\"-----------------------------------------------\");\n",
    "\n",
    "            designer.GetInfo();\n",
    "            designer.Work();\n",
    "            designer.TakeVacation();\n",
    "        }\n",
    "    }\n",
    "            Program.Main();"
   ]
  }
 ],
 "metadata": {
  "kernelspec": {
   "display_name": ".NET (C#)",
   "language": "C#",
   "name": ".net-csharp"
  },
  "polyglot_notebook": {
   "kernelInfo": {
    "defaultKernelName": "csharp",
    "items": [
     {
      "aliases": [],
      "languageName": "csharp",
      "name": "csharp"
     }
    ]
   }
  }
 },
 "nbformat": 4,
 "nbformat_minor": 2
}
