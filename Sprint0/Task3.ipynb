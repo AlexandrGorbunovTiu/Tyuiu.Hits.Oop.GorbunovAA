{
 "cells": [
  {
   "cell_type": "markdown",
   "metadata": {},
   "source": [
    "<h1 style=\"color:DodgerBlue\">Индивидальный проект</h1>"
   ]
  },
  {
   "cell_type": "markdown",
   "metadata": {},
   "source": [
    "<h2 style=\"color:DodgerBlue\">Название проекта:</h2>\n",
    "\n",
    "----\n",
    "\n",
    "### Вариант задания 3\n"
   ]
  },
  {
   "cell_type": "markdown",
   "metadata": {},
   "source": [
    "<h2 style=\"color:DodgerBlue\">Описание проекта:</h2>\n",
    "\n",
    "----\n",
    "\n",
    "Создать базовый класс Employee в C#, который будет представлять информацию о\n",
    "сотрудниках компании. На основе этого класса разработать 2-3 производных\n",
    "класса, демонстрирующих принципы наследования и полиморфизма. В каждом из\n",
    "классов должны быть реализованы новые атрибуты и методы, а также\n",
    "переопределены некоторые методы базового класса для демонстрации\n",
    "полиморфизма.\n"
   ]
  },
  {
   "cell_type": "markdown",
   "metadata": {},
   "source": [
    "<h2 style=\"color:DodgerBlue\">Реализация:</h2>\n",
    "\n",
    "----"
   ]
  },
  {
   "cell_type": "code",
   "execution_count": 10,
   "metadata": {},
   "outputs": [],
   "source": [
    "public class Employee\n",
    "    {\n",
    "        public string Name { get; set; }\n",
    "        public int Age { get; set; }\n",
    "        public decimal Salary { get; set; }\n",
    "\n",
    "        public Employee(string name, int age, decimal salary)\n",
    "        {\n",
    "            Name = name;\n",
    "            Age = age;\n",
    "            Salary = salary;\n",
    "        }\n",
    "\n",
    "        public virtual string GetInfo()\n",
    "        {\n",
    "            return $\"Имя: {Name}, Возраст: {Age}, Зарплата: {Salary}\";\n",
    "        }\n",
    "\n",
    "        public virtual void Work()\n",
    "        {\n",
    "            Console.WriteLine($\"{Name} выполняет рабочие обязанности.\");\n",
    "        }\n",
    "\n",
    "        public virtual void TakeVacation()\n",
    "        {\n",
    "            Console.WriteLine($\"{Name} взял отпуск.\");\n",
    "        }\n",
    "    }\n",
    "\n",
    "    public class Manager : Employee\n",
    "    {\n",
    "        public int SubordinatesCount { get; set; }\n",
    "\n",
    "        public Manager(string name, int age, decimal salary, int subordinatesCount)\n",
    "            : base(name, age, salary)\n",
    "        {\n",
    "            SubordinatesCount = subordinatesCount;\n",
    "        }\n",
    "\n",
    "        public override void Work()\n",
    "        {\n",
    "            Console.WriteLine($\"{Name} управляет командой из {SubordinatesCount} подчиненных.\");\n",
    "        }\n",
    "    }\n",
    "\n",
    "    public class Developer : Employee\n",
    "    {\n",
    "        public string Specialization { get; set; }\n",
    "\n",
    "        public Developer(string name, int age, decimal salary, string specialization)\n",
    "            : base(name, age, salary)\n",
    "        {\n",
    "            Specialization = specialization;\n",
    "        }\n",
    "\n",
    "        public override void Work()\n",
    "        {\n",
    "            Console.WriteLine($\"{Name} разрабатывает программное обеспечение в области {Specialization}.\");\n",
    "        }\n",
    "    }\n",
    "\n",
    "    public class Designer : Employee\n",
    "    {\n",
    "        public string Tool { get; set; }\n",
    "\n",
    "        public Designer(string name, int age, decimal salary, string tool)\n",
    "            : base(name, age, salary)\n",
    "        {\n",
    "            Tool = tool;\n",
    "        }\n",
    "\n",
    "        public override void Work()\n",
    "        {\n",
    "            Console.WriteLine($\"{Name} создает дизайн с помощью {Tool}.\");\n",
    "        }\n",
    "    }\n",
    "\n",
    "    class Program\n",
    "    {\n",
    "        static void Main(string[] args)\n",
    "        {\n",
    "            List<Employee> employees = new List<Employee>\n",
    "            {\n",
    "                new Manager(\"Иван Петров\", 45, 80000, 5),\n",
    "                new Developer(\"Анна Смирнова\", 30, 70000, \"C#\"),\n",
    "                new Designer(\"Ольга Кузнецова\", 28, 60000, \"Photoshop\")\n",
    "            };\n",
    "\n",
    "            foreach (var employee in employees)\n",
    "            {\n",
    "                Console.WriteLine(employee.GetInfo());\n",
    "                employee.Work();\n",
    "                employee.TakeVacation();\n",
    "                Console.WriteLine(); // Пустая строка для разделения\n",
    "            }\n",
    "        }\n",
    "    }"
   ]
  }
 ],
 "metadata": {
  "kernelspec": {
   "display_name": ".NET (C#)",
   "language": "C#",
   "name": ".net-csharp"
  },
  "polyglot_notebook": {
   "kernelInfo": {
    "defaultKernelName": "csharp",
    "items": [
     {
      "aliases": [],
      "languageName": "csharp",
      "name": "csharp"
     }
    ]
   }
  }
 },
 "nbformat": 4,
 "nbformat_minor": 2
}
